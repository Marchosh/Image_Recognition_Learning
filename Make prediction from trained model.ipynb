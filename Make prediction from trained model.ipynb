{
 "cells": [
  {
   "cell_type": "code",
   "execution_count": 1,
   "id": "51143e76",
   "metadata": {},
   "outputs": [],
   "source": [
    "from keras.models import model_from_json\n",
    "from pathlib import Path\n",
    "from keras.preprocessing import image\n",
    "import numpy as np"
   ]
  },
  {
   "cell_type": "code",
   "execution_count": 2,
   "id": "2cdb3601",
   "metadata": {},
   "outputs": [],
   "source": [
    "# These are the CIFAR10 class labels from the training data (in order from 0 to 9)\n",
    "class_labels = [\n",
    "    \"Plane\",\n",
    "    \"Car\",\n",
    "    \"Bird\",\n",
    "    \"Cat\",\n",
    "    \"Deer\",\n",
    "    \"Dog\",\n",
    "    \"Frog\",\n",
    "    \"Horse\",\n",
    "    \"Boat\",\n",
    "    \"Truck\"\n",
    "]"
   ]
  },
  {
   "cell_type": "code",
   "execution_count": 3,
   "id": "e0547035",
   "metadata": {},
   "outputs": [],
   "source": [
    "# Load the json file that contains the model's structure\n",
    "f = Path(\"model_structure.json\")\n",
    "model_structure = f.read_text()\n"
   ]
  },
  {
   "cell_type": "code",
   "execution_count": 4,
   "id": "cbec1daf",
   "metadata": {},
   "outputs": [],
   "source": [
    "# Recreate the Keras model object from the json data\n",
    "model = model_from_json(model_structure)"
   ]
  },
  {
   "cell_type": "code",
   "execution_count": 5,
   "id": "4a31332e",
   "metadata": {},
   "outputs": [],
   "source": [
    "# Re-load the model's trained weights\n",
    "model.load_weights(\"model_weights.h5\")"
   ]
  },
  {
   "cell_type": "code",
   "execution_count": 45,
   "id": "32808698",
   "metadata": {},
   "outputs": [],
   "source": [
    "# Load an image file to test, resizing it to 32x32 pixels (as required by this model)\n",
    "img = image.load_img(\"Ch04/plane1.jfif\", target_size=(32, 32))"
   ]
  },
  {
   "cell_type": "code",
   "execution_count": 46,
   "id": "6f6fe4fc",
   "metadata": {},
   "outputs": [
    {
     "data": {
      "image/png": "[encoded data removed]",
      "text/plain": [
       "<PIL.Image.Image image mode=RGB size=32x32 at 0x135284FA9A0>"
      ]
     },
     "execution_count": 46,
     "metadata": {},
     "output_type": "execute_result"
    }
   ],
   "source": [
    "img"
   ]
  },
  {
   "cell_type": "code",
   "execution_count": 47,
   "id": "65b32d18",
   "metadata": {},
   "outputs": [],
   "source": [
    "# Convert the image to a numpy array\n",
    "image_to_test = image.img_to_array(img) / 255"
   ]
  },
  {
   "cell_type": "code",
   "execution_count": 48,
   "id": "611477f5",
   "metadata": {},
   "outputs": [],
   "source": [
    "# Add a fourth dimension to the image (since Keras expects a list of images, not a single image)\n",
    "list_of_images = np.expand_dims(image_to_test, axis=0)"
   ]
  },
  {
   "cell_type": "code",
   "execution_count": 49,
   "id": "1ef8f309",
   "metadata": {},
   "outputs": [],
   "source": [
    "# Make a prediction using the model\n",
    "results = model.predict(list_of_images)"
   ]
  },
  {
   "cell_type": "code",
   "execution_count": 50,
   "id": "41f39fac",
   "metadata": {},
   "outputs": [],
   "source": [
    "# check the first result\n",
    "single_result = results[0]"
   ]
  },
  {
   "cell_type": "code",
   "execution_count": 51,
   "id": "e12146f0",
   "metadata": {},
   "outputs": [],
   "source": [
    "# get a likelihood score for all 10 possible classes. Find out which class had the highest score.\n",
    "most_likely_class_index = int(np.argmax(single_result))\n",
    "class_likelihood = single_result[most_likely_class_index]"
   ]
  },
  {
   "cell_type": "code",
   "execution_count": 52,
   "id": "5a9cf041",
   "metadata": {},
   "outputs": [],
   "source": [
    "class_label = class_labels[most_likely_class_index]"
   ]
  },
  {
   "cell_type": "code",
   "execution_count": 53,
   "id": "a674a1cd",
   "metadata": {},
   "outputs": [
    {
     "name": "stdout",
     "output_type": "stream",
     "text": [
      "This is image is a Plane - Likelihood: 0.809037\n"
     ]
    }
   ],
   "source": [
    "print(\"This is image is a {} - Likelihood: {:2f}\".format(class_label, class_likelihood))"
   ]
  },
  {
   "cell_type": "code",
   "execution_count": null,
   "id": "6afd17ec",
   "metadata": {},
   "outputs": [],
   "source": []
  }
 ],
 "metadata": {
  "kernelspec": {
   "display_name": "Python 3 (ipykernel)",
   "language": "python",
   "name": "python3"
  },
  "language_info": {
   "codemirror_mode": {
    "name": "ipython",
    "version": 3
   },
   "file_extension": ".py",
   "mimetype": "text/x-python",
   "name": "python",
   "nbconvert_exporter": "python",
   "pygments_lexer": "ipython3",
   "version": "3.9.7"
  }
 },
 "nbformat": 4,
 "nbformat_minor": 5
}
